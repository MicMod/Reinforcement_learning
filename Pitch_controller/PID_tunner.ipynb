{
 "metadata": {
  "language_info": {
   "codemirror_mode": {
    "name": "ipython",
    "version": 3
   },
   "file_extension": ".py",
   "mimetype": "text/x-python",
   "name": "python",
   "nbconvert_exporter": "python",
   "pygments_lexer": "ipython3",
   "version": "3.8.5-final"
  },
  "orig_nbformat": 2,
  "kernelspec": {
   "name": "python3",
   "display_name": "Python 3.8.5 64-bit",
   "metadata": {
    "interpreter": {
     "hash": "916dbcbb3f70747c44a77c7bcd40155683ae19c65e1c03b4aa3499c5328201f1"
    }
   }
  }
 },
 "nbformat": 4,
 "nbformat_minor": 2,
 "cells": [
  {
   "cell_type": "code",
   "execution_count": 5,
   "metadata": {},
   "outputs": [],
   "source": [
    "import numpy as np \n",
    "import matplotlib.pyplot as plt \n",
    "%matplotlib inline\n",
    "import ipywidgets as wg\n",
    "from IPython.display import display\n",
    "from Plane import Plane\n",
    "from PID import PID\n",
    "from setpoints import get_SP"
   ]
  },
  {
   "cell_type": "code",
   "execution_count": 6,
   "metadata": {},
   "outputs": [],
   "source": [
    "Kp = 1.18\n",
    "Ti = 0.13\n",
    "Td = 0.15"
   ]
  },
  {
   "cell_type": "code",
   "execution_count": 9,
   "metadata": {},
   "outputs": [],
   "source": [
    "def pid_tuner(Kp, Ti, Td):\n",
    "\n",
    "    pid = PID(Kp=Kp, Ti=Ti, Td=Td)\n",
    "    plane = Plane(data_path=\"Data/Mp(10alpha).csv\", evaluate=True)\n",
    "    SP_val=10.0\n",
    "\n",
    "    SP, t = get_SP(SP_type='constant', SP_step=plane.tau, SP_time=2.0, SP_val=SP_val)\n",
    "\n",
    "    theta= []\n",
    "    delta = []\n",
    "\n",
    "    state = plane.reset()\n",
    "    plane.set_setpoint(np.deg2rad(SP_val))\n",
    "    \n",
    "    _theta = state[0]\n",
    "    _delta = state[2]\n",
    "\n",
    "    for i in range(len(t)):\n",
    "        \n",
    "        theta.append(np.rad2deg(_theta))\n",
    "        delta.append(np.rad2deg(_delta))\n",
    "        action = pid.control(SP[i], _theta, plane.tau)\n",
    "        state = plane.step(action)\n",
    "        _theta = state[0][0]\n",
    "        _delta = state[0][2]\n",
    "\n",
    "    plt.figure(figsize=(10,10))\n",
    "    \n",
    "    plt.subplot(2,1,1)\n",
    "\n",
    "    plt.plot(t, theta, label=\"Pochylenie samolotu\")\n",
    "    plt.plot(t, np.rad2deg(SP), label='Nastawa')\n",
    "    plt.xlim((0.0, t[-1]))\n",
    "    plt.xlabel('Czas [s]')\n",
    "    plt.ylabel('Kąt $[^o]$')\n",
    "    plt.legend(loc='lower right')\n",
    "    plt.title(\"Pochylenie samolotu\", fontsize=18)\n",
    "    plt.grid()\n",
    "\n",
    "    plt.subplot(2,1,2)\n",
    "\n",
    "    plt.plot(t, delta, label=\"Wychylenie usterzenia\")\n",
    "    plt.xlim((0.0, t[-1]))\n",
    "    plt.xlabel('Czas [s]')\n",
    "    plt.ylabel('Kąt $[^o]$')\n",
    "    plt.legend(loc='lower right')\n",
    "    plt.title(\"Wychylenie usterzenia poziomego\", fontsize=18)\n",
    "    plt.grid()\n",
    "\n",
    "    plt.tight_layout(pad=3)\n",
    "    plt.show()"
   ]
  },
  {
   "cell_type": "code",
   "execution_count": 10,
   "metadata": {},
   "outputs": [
    {
     "output_type": "display_data",
     "data": {
      "text/plain": "interactive(children=(FloatSlider(value=1.18, description='Kp', max=5.0, step=0.01), FloatSlider(value=0.13, d…",
      "application/vnd.jupyter.widget-view+json": {
       "version_major": 2,
       "version_minor": 0,
       "model_id": "9e305bcfdba5428c91ba05984d8085d0"
      }
     },
     "metadata": {}
    },
    {
     "output_type": "execute_result",
     "data": {
      "text/plain": [
       "<function __main__.pid_tuner(Kp, Ti, Td)>"
      ]
     },
     "metadata": {},
     "execution_count": 10
    }
   ],
   "source": [
    "Kp_slide = wg.FloatSlider(value=Kp, min=0.0, max=5.0, step=0.01)\n",
    "Ti_slide = wg.FloatSlider(value=Ti, min=0.05, max=0.5, step=0.01)\n",
    "Td_slide = wg.FloatSlider(value=Td, min=0.05, max=0.5, step=0.01)\n",
    "wg.interact(pid_tuner, Kp=Kp_slide, Ti=Ti_slide, Td=Td_slide)\n"
   ]
  },
  {
   "cell_type": "code",
   "execution_count": null,
   "metadata": {},
   "outputs": [],
   "source": []
  },
  {
   "cell_type": "code",
   "execution_count": null,
   "metadata": {},
   "outputs": [],
   "source": []
  }
 ]
}